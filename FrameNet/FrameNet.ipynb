{
 "cells": [
  {
   "attachments": {},
   "cell_type": "markdown",
   "metadata": {},
   "source": [
    "### Esercitazione FrameNet \n",
    "\n",
    "Consegna 2\n",
    "\n",
    "Mario Scapellato"
   ]
  },
  {
   "cell_type": "code",
   "execution_count": 1,
   "metadata": {},
   "outputs": [],
   "source": [
    "from nltk.corpus import framenet as fn\n",
    "import csv\n",
    "import hashlib\n",
    "import random\n",
    "from random import randint\n",
    "from random import seed \n",
    "from nltk.corpus import wordnet as wn\n",
    "import spacy"
   ]
  },
  {
   "cell_type": "code",
   "execution_count": 2,
   "metadata": {},
   "outputs": [],
   "source": [
    "def print_frames_with_IDs():\n",
    "    for x in fn.frames():\n",
    "        print('{}\\t{}'.format(x.ID, x.name))\n",
    "\n",
    "def get_frames_ID():\n",
    "    return [f.ID for f in fn.frames()]\n",
    "\n",
    "\n",
    "def getFrameSetForStudent(surname, list_len = 5):\n",
    "    id_framelist = []\n",
    "    nof_frames = len(fn.frames())\n",
    "    base_idx = (abs(int(hashlib.sha512(surname.encode('utf-8')).hexdigest(),16))% nof_frames)\n",
    "    print('\\nStudent: '+ surname)\n",
    "    framente_IDs = get_frames_ID()\n",
    "    i = 0\n",
    "    offset = 0\n",
    "    seed(1)\n",
    "\n",
    "    while i < list_len: \n",
    "        fID = framente_IDs[(base_idx + offset)% nof_frames]\n",
    "        f = fn.frame(fID)\n",
    "        fNAME = f.name\n",
    "        #Def = f.definition\n",
    "        FEs = f.FE.keys()\n",
    "        LUs=f.lexUnit.keys()\n",
    "        print('\\tID: {a:4d}\\tframe: {framename}'.format(a = fID, framename = fNAME))\n",
    "        #print()\n",
    "        #print('\\t Def : {Def}'.format(Def = Def))\n",
    "        print()\n",
    "        print('\\tFes: {FE}\\n LUs: {LU}'.format(FE=FEs, LU=LUs))\n",
    "        id_framelist.append(fID)\n",
    "        offset = randint(0, nof_frames)\n",
    "        i += 1\n",
    "    \n",
    "    return id_framelist    "
   ]
  },
  {
   "cell_type": "code",
   "execution_count": 3,
   "metadata": {},
   "outputs": [
    {
     "name": "stdout",
     "output_type": "stream",
     "text": [
      "\n",
      "Student: scapellato\n",
      "\tID: 1625\tframe: Agree_or_refuse_to_act\n",
      "\n",
      "\tFes: dict_keys(['Speaker', 'Interlocutor', 'Medium', 'Proposed_action', 'Manner', 'Depictive', 'Means', 'Internal_cause', 'Place', 'Time', 'Purpose', 'Particular_iteration', 'Role', 'Co-timed_event', 'Frequency', 'Explanation', 'Event_description'])\n",
      " LUs: dict_keys(['refuse.v', 'decline.v', 'refusal.n', 'agree.v'])\n",
      "\tID:  900\tframe: Contingency\n",
      "\n",
      "\tFes: dict_keys(['Outcome', 'Determinant', 'Degree', 'Circumstances'])\n",
      " LUs: dict_keys(['depend.v', 'function.n', 'dependent.a', 'depends.v', 'dependence.n', 'hang (on).v', 'turn.v', 'determine.v', 'independent.a', 'independence.n', 'hinge.v', 'factor.n', 'variable.n', 'dictate.v'])\n",
      "\tID: 1840\tframe: Vocalizations\n",
      "\n",
      "\tFes: dict_keys(['Sound_source', 'Location_of_sound_source', 'Place', 'Internal_cause', 'Manner', 'Degree', 'Explanation', 'Path', 'Frequency'])\n",
      " LUs: dict_keys(['cry.n', 'howl.n', 'squeak.n'])\n",
      "\tID: 1860\tframe: Breaking_off\n",
      "\n",
      "\tFes: dict_keys(['Subpart', 'Whole', 'Criterion', 'Time', 'Place', 'Manner', 'Means'])\n",
      " LUs: dict_keys(['chip.v', 'break.v', 'snap.v'])\n",
      "\tID: 1577\tframe: Having_commercial_agreement\n",
      "\n",
      "\tFes: dict_keys(['Party_1', 'Party_2', 'Obligation', 'Topic', 'Medium', 'Parties', 'Place', 'Time'])\n",
      " LUs: dict_keys([])\n"
     ]
    }
   ],
   "source": [
    "frame_ID = getFrameSetForStudent('scapellato')"
   ]
  },
  {
   "cell_type": "code",
   "execution_count": 4,
   "metadata": {},
   "outputs": [],
   "source": [
    "#utilizzo spacy \n",
    "nlp = spacy.load(\"en_core_web_sm\")"
   ]
  },
  {
   "cell_type": "code",
   "execution_count": 5,
   "metadata": {},
   "outputs": [],
   "source": [
    "#funzione con cui recupero il frame a partire da suo ID\n",
    "def get_frame_id(frame_id):\n",
    "    f = fn.frame_by_id(frame_id)\n",
    "\n",
    "    return f"
   ]
  },
  {
   "cell_type": "markdown",
   "metadata": {},
   "source": [
    "#### Getting synset by a word"
   ]
  },
  {
   "cell_type": "code",
   "execution_count": 6,
   "metadata": {},
   "outputs": [],
   "source": [
    "#estraggo il synset a partire da una parola\n",
    "def get_synset(word):\n",
    "    synset = wn.synsets(word)\n",
    "    if synset == \"\":\n",
    "        return \"Null\"\n",
    "    else:\n",
    "        return synset"
   ]
  },
  {
   "cell_type": "markdown",
   "metadata": {},
   "source": [
    "##### importing spacy library for multiword. Posso cosi disambiguare le multiword"
   ]
  },
  {
   "cell_type": "code",
   "execution_count": 7,
   "metadata": {},
   "outputs": [],
   "source": [
    "def get_reggex_expression(frame_name):\n",
    "\n",
    "    if '-' or '_' in frame_name:\n",
    "        \n",
    "        main_word = \"\"\n",
    "        \n",
    "        # remove some punctualizations\n",
    "        frame_name = frame_name.replace('_', ' ').replace('-', ' ')\n",
    "\n",
    "        # Convert string into iterable obj with additional features (easy PoS tagging), using spacy\n",
    "        frame_name = nlp(frame_name)\n",
    "        #print(\"Frame:\", frame_name)\n",
    "\n",
    "        #Vedo se la parola è un NN o NNS oppure ROOT. Disambiguo il termine principale della parola. \n",
    "        #Nel mio caso per esempio ho \"proposed_action\" in cui la main word e' \"action\"\n",
    "        for term in frame_name:\n",
    "            # Main word is the NN or NNS in a sentence. \n",
    "            if term.tag_ == \"NNS\" or term.tag_ == \"NN\":\n",
    "                main_word = term.text\n",
    "            else:\n",
    "                # Select the \"root\" term\n",
    "                if term.dep_ == 'ROOT':\n",
    "                    main_word = term.text\n",
    "        #print(\"Main Word:\", main_word)\n",
    "        return main_word\n",
    "    else:\n",
    "        return frame_name\n"
   ]
  },
  {
   "cell_type": "markdown",
   "metadata": {},
   "source": [
    "##### processing some strings, creating a list with name + definition"
   ]
  },
  {
   "cell_type": "code",
   "execution_count": 8,
   "metadata": {},
   "outputs": [],
   "source": [
    "def processing(name, definition):\n",
    "    res = []\n",
    "    \n",
    "    # string to delete\n",
    "    str_delete = [\"fe\", \"fn\", \"cod\", \"'\", \"$\"]\n",
    "    \n",
    "    # set string to lowercase\n",
    "    definition = definition.lower()\n",
    "    \n",
    "    # transform string into Doc with spacy\n",
    "    definition = nlp(definition)\n",
    "\n",
    "    # Now append the name\n",
    "    res.append(name.lower())\n",
    "    for term in definition:\n",
    "        # Save only no stop and no punctalization term\n",
    "        if not term.is_stop:\n",
    "            if term.pos_ != \"PUNCT\" and term.pos_ != \"NUM\":\n",
    "                res.append(term.lemma_)\n",
    "\n",
    "    # In the end delete strings into other_str_delete variable\n",
    "    res = list(filter(lambda x: x not in str_delete, res))\n",
    "\n",
    "    return res"
   ]
  },
  {
   "cell_type": "markdown",
   "metadata": {},
   "source": [
    "##### get frame name, frame element, lexical unit\n",
    "##### Import la libreria re per caratteri speciali"
   ]
  },
  {
   "cell_type": "code",
   "execution_count": 9,
   "metadata": {},
   "outputs": [],
   "source": [
    "import re\n",
    "\n",
    "fe_list = []\n",
    "fn_list = []\n",
    "lu_list = []\n",
    "\n",
    "for id in frame_ID:\n",
    "    f = get_frame_id(id)\n",
    "    fn_list.append(processing(get_reggex_expression(f.name), f.definition))\n",
    "\n",
    "    for key in f.FE: \n",
    "        definition = f.FE[key].definition\n",
    "        main_word = get_reggex_expression(key)\n",
    "        fe_list.append(processing(main_word, definition))\n",
    "\n",
    "    for key in f.lexUnit:\n",
    "        lu_key = re.sub('\\.[a-z]+', '', key)\n",
    "        main_word = get_reggex_expression(lu_key)\n",
    "        definition = f.lexUnit[key].definition\n",
    "        lu_list.append(processing(main_word, definition))\n"
   ]
  },
  {
   "attachments": {},
   "cell_type": "markdown",
   "metadata": {},
   "source": [
    "Il contesto di disambiguazione dei termini w appartenenti a FN, è costruito utilizzando i termini (lemmatizzati e dopo filtraggio delle stopwords) presenti nelle descrizioni del frame e dei vari FEs"
   ]
  },
  {
   "cell_type": "code",
   "execution_count": 10,
   "metadata": {},
   "outputs": [],
   "source": [
    "def get_examples(synset):\n",
    "    examples = []\n",
    "    if synset.examples():\n",
    "        for example in synset.examples():\n",
    "            examples.append(processing(\"\", example))\n",
    "    \n",
    "    # Compose the result\n",
    "    res = [item for sub_list in examples for item in sub_list]\n",
    "\n",
    "    return res"
   ]
  },
  {
   "attachments": {},
   "cell_type": "markdown",
   "metadata": {},
   "source": [
    "##### check context  of a synset dependency by his hyponym ad hypernym\n",
    "\n",
    "Per quanto riguarda il contesto dei sensi presenti in WN è possibile selezionare glosse ed  esempi dei sensi, e dei loro rispettivi iponimi e iperonimi, in modo da avere più  informazione, ottenendo quindi il contesto di disambiguazione  Ctx(s)."
   ]
  },
  {
   "cell_type": "code",
   "execution_count": 11,
   "metadata": {},
   "outputs": [],
   "source": [
    "def get_context(synset):\n",
    "    synset_def = []\n",
    "    current_examples = []\n",
    "    \n",
    "    # take the synset definition and process it\n",
    "    definition = synset.definition()\n",
    "    synset_def = processing(\"\", definition)\n",
    "\n",
    "    # get examples of that synset\n",
    "    current_examples = get_examples(synset)\n",
    "\n",
    "    #check hyponyms\n",
    "    hyponyms = synset.hyponyms()\n",
    "    hypon_list = []\n",
    "    hy_def = []\n",
    "    \n",
    "    if hyponyms !=0:\n",
    "        \n",
    "        limit = 0\n",
    "        for hypon in hyponyms:\n",
    "            if limit == 3:\n",
    "                break\n",
    "                \n",
    "            # save hyponym definition and process it\n",
    "            hy_def.append(processing(\"\", hypon.definition()))\n",
    "            \n",
    "            # save hyponym examples\n",
    "            hypon_list.append(get_examples(hypon))\n",
    "\n",
    "            limit += 1\n",
    "            \n",
    "    #check hypernyms\n",
    "    hypernyms = synset.hypernyms()\n",
    "    hyper_list = []\n",
    "    \n",
    "    if hypernyms != 0:\n",
    "        limit = 0\n",
    "        for hyper in hypernyms:\n",
    "            if limit == 3:\n",
    "                break\n",
    "                \n",
    "            # save hypernym definition and process it\n",
    "            hy_def.append(processing(\"\", hyper.definition()))\n",
    "            \n",
    "            # save hypernym examples\n",
    "            hyper_list.append(get_examples(hyper))\n",
    "            \n",
    "            limit += 1\n",
    "\n",
    "    # Compose hypernym and hyponym definitions and examples\n",
    "    hy_def = [item for sub_list in hy_def for item in sub_list]\n",
    "    hyper_list = [item for sub_list in hyper_list for item in sub_list]\n",
    "    hypon_list = [item for sub_list in hypon_list for item in sub_list]\n",
    "\n",
    "    # Context composed by examples and definiton of current synset + hypernym and hyponym definitions + hypernym and hyponym definitions\n",
    "    return current_examples + synset_def + hy_def + hypon_list + hyper_list"
   ]
  },
  {
   "cell_type": "markdown",
   "metadata": {},
   "source": [
    "##### Now import my tsv files"
   ]
  },
  {
   "cell_type": "code",
   "execution_count": 12,
   "metadata": {},
   "outputs": [],
   "source": [
    "def read_csv(path):\n",
    "    \n",
    "    with open(path, 'r', encoding='utf-8-sig') as csv_file:\n",
    "        csv_reader = csv.reader(csv_file, delimiter='\\t')\n",
    "        res = []\n",
    "        for row in csv_reader:\n",
    "            res.append(row)\n",
    "    return res\n"
   ]
  },
  {
   "attachments": {
    "image.png": {
     "image/png": "[encoded data removed]"
    }
   },
   "cell_type": "markdown",
   "metadata": {},
   "source": [
    "Per l'algoritmo di Mapping e' possibile usare il BOW: \n",
    "Approccio a bag of words, e scelta del senso che permette di massimizzare l'intersezione fra i contesti. \n",
    "\n",
    "![image.png](attachment:image.png)\n",
    "\n",
    "Viene restituito il senso che massimizza lo score(s,w).\n"
   ]
  },
  {
   "cell_type": "code",
   "execution_count": 13,
   "metadata": {},
   "outputs": [],
   "source": [
    "def BOW(word, synsets):\n",
    "  \n",
    "    max_score = 0\n",
    "    bag = list(word)\n",
    "    best_synset = None\n",
    "    \n",
    "    if len(synsets) > 1:\n",
    "        for synset in synsets:\n",
    "            # Get context of the synset\n",
    "            context = get_context(synset)\n",
    "            context = list(context)\n",
    "            \n",
    "            # Calculate the intersection between word and context (+1 for Smoothing)\n",
    "            score = len(set(word).intersection(context)) + 1\n",
    "                        \n",
    "            # Save the synset with higher score\n",
    "            if score > max_score:\n",
    "                max_score = score\n",
    "                best_synset = synset\n",
    "    else:\n",
    "        best_synset = synsets\n",
    "    \n",
    "\n",
    "    return best_synset\n"
   ]
  },
  {
   "cell_type": "code",
   "execution_count": 14,
   "metadata": {},
   "outputs": [],
   "source": [
    "fe = 'utils/fe_resource.tsv'\n",
    "fn = 'utils/fn_resource.tsv'\n",
    "lu = 'utils/lu_resource.tsv'\n",
    "\n",
    "fn_import = read_csv(fn)\n",
    "fe_import = read_csv(fe)\n",
    "lu_import = read_csv(lu)\n",
    "\n",
    "bow = []\n",
    "\n",
    "#compute fe, fn, lu\n",
    "for i in range(0, len(fn_import)):\n",
    "    synsets = wn.synsets(fn_import[i][0])\n",
    "    best_synset = BOW(fn_list[i], synsets)\n",
    "    bow.append(best_synset)\n",
    "\n",
    "for i in range(0, len(fe_import)):\n",
    "    synsets = wn.synsets(fe_import[i][0])\n",
    "    best_synset = BOW(fe_list[i], synsets)\n",
    "    bow.append(best_synset)\n",
    "\n",
    "for i in range(0, len(lu_import)):\n",
    "    synsets = wn.synsets(lu_import[i][0])\n",
    "    best_synset = BOW(lu_list[i], synsets)\n",
    "    bow.append(best_synset)\n"
   ]
  },
  {
   "cell_type": "markdown",
   "metadata": {},
   "source": [
    "##### Accuracy score"
   ]
  },
  {
   "cell_type": "code",
   "execution_count": 18,
   "metadata": {},
   "outputs": [
    {
     "name": "stdout",
     "output_type": "stream",
     "text": [
      "Right mappings:  43 \n",
      "Wrong mappings:  31\n",
      "Accuracy:  0.58\n"
     ]
    }
   ],
   "source": [
    "total = fn_import + fe_import + lu_import\n",
    "right = 0\n",
    "\n",
    "for i in range(0, len(bow)):\n",
    "    current_mapping = str(bow[i]).replace('[', '').replace(']', '').replace(\"Synset('\", '').replace(\"')\", '')\n",
    "    \n",
    "    # Comparison between computed senses and hand written senses\n",
    "    if current_mapping == total[i][1]:\n",
    "        right += 1\n",
    "      \n",
    "print(\"Right mappings: \", right, \"\\nWrong mappings: \", len(bow)-right)\n",
    "print(\"Accuracy: \", round(right/len(bow), 2))\n",
    "\n",
    "#print(bow)"
   ]
  },
  {
   "attachments": {},
   "cell_type": "markdown",
   "metadata": {},
   "source": [
    "Alcuni termini sono diversi: come per esempio io ho annatato place.n.02 mentre come output il risultato restituito e' stead.n.01. Il significato non e' troppo troppo diverso. Stesso discorso per iteration dove ho scritto iteration.n.03 e come output e' stato restituito iteration.n.01, ma significano pressoche la stessa cosa. Questo puo essere dovuto dal fatto che quando disambiguo il contesto, oltre a prendere definizione e gloss di esempi per ciascun frame, ho aggiunto anche iperonimi e iponimi per dare maggiore informazione al contesto di disambiguazione."
   ]
  }
 ],
 "metadata": {
  "kernelspec": {
   "display_name": "Python 3.8.5 ('base')",
   "language": "python",
   "name": "python3"
  },
  "language_info": {
   "codemirror_mode": {
    "name": "ipython",
    "version": 3
   },
   "file_extension": ".py",
   "mimetype": "text/x-python",
   "name": "python",
   "nbconvert_exporter": "python",
   "pygments_lexer": "ipython3",
   "version": "3.8.5"
  },
  "orig_nbformat": 4,
  "vscode": {
   "interpreter": {
    "hash": "8713ca3b77628a4414cb19afecce4be886be5a2f883480e0c3ed66d57c8d45ba"
   }
  }
 },
 "nbformat": 4,
 "nbformat_minor": 2
}
